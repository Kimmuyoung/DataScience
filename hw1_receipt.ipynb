{
 "cells": [
  {
   "cell_type": "code",
   "execution_count": 1,
   "id": "d204563a-8588-433a-b2e9-534769b596f7",
   "metadata": {},
   "outputs": [],
   "source": [
    "# 과제1: Receipts for Lovely Loveseats"
   ]
  },
  {
   "cell_type": "code",
   "execution_count": 2,
   "id": "01fdb155-0999-42ca-903c-2d11d33d63bb",
   "metadata": {},
   "outputs": [
    {
     "name": "stdout",
     "output_type": "stream",
     "text": [
      "Lovely Loveseat. Tufted polyester blend on wood. 32 inches high x 40 inches wide x 30 inches deep. Red or white.\n"
     ]
    }
   ],
   "source": [
    "# 1\n",
    "lovely_loveseat_description = \"Lovely Loveseat. Tufted polyester blend on wood. 32 inches high x 40 inches wide x 30 inches deep. Red or white.\"\n",
    "print(lovely_loveseat_description)"
   ]
  },
  {
   "cell_type": "code",
   "execution_count": 3,
   "id": "fd8a22d5-f7c4-49bb-b2e1-351ed5ee65e7",
   "metadata": {},
   "outputs": [
    {
     "name": "stdout",
     "output_type": "stream",
     "text": [
      "254.0\n"
     ]
    }
   ],
   "source": [
    "# 2\n",
    "lovely_loveseat_price = 254.00\n",
    "print(lovely_loveseat_price)"
   ]
  },
  {
   "cell_type": "code",
   "execution_count": 4,
   "id": "cb63bd7c-df27-4bcb-96d6-9f2e397facd8",
   "metadata": {},
   "outputs": [
    {
     "name": "stdout",
     "output_type": "stream",
     "text": [
      "Stylish Settee. Faux leather on birch. 29.50 inches high x 54.75 inches wide x 28 inches deep. Black.\n"
     ]
    }
   ],
   "source": [
    "# 3\n",
    "stylish_settee_description = \"Stylish Settee. Faux leather on birch. 29.50 inches high x 54.75 inches wide x 28 inches deep. Black.\"\n",
    "print(stylish_settee_description)"
   ]
  },
  {
   "cell_type": "code",
   "execution_count": 5,
   "id": "13dcd22a-b973-4e4c-b1f8-005a66dde325",
   "metadata": {},
   "outputs": [
    {
     "name": "stdout",
     "output_type": "stream",
     "text": [
      "180.5\n"
     ]
    }
   ],
   "source": [
    "# 4\n",
    "style_settee_price = 180.50\n",
    "print(style_settee_price)"
   ]
  },
  {
   "cell_type": "code",
   "execution_count": 6,
   "id": "1b35fff9-f5b0-4c3f-a474-1ecd3b734102",
   "metadata": {},
   "outputs": [
    {
     "name": "stdout",
     "output_type": "stream",
     "text": [
      "Luxurious Lamp. Glass and iron. 36 inches tall. Brown with cream shade.\n"
     ]
    }
   ],
   "source": [
    "# 5\n",
    "luxurious_lamp_description = \"Luxurious Lamp. Glass and iron. 36 inches tall. Brown with cream shade.\"\n",
    "print(luxurious_lamp_description)"
   ]
  },
  {
   "cell_type": "code",
   "execution_count": 7,
   "id": "50423794-165c-4c4e-a92f-31eb5f5320f1",
   "metadata": {},
   "outputs": [
    {
     "name": "stdout",
     "output_type": "stream",
     "text": [
      "52.15\n"
     ]
    }
   ],
   "source": [
    "# 6\n",
    "luxurious_lamp_price = 52.15\n",
    "print(luxurious_lamp_price)"
   ]
  },
  {
   "cell_type": "code",
   "execution_count": 8,
   "id": "2cdd5677-59cc-4ad2-85d6-257474983856",
   "metadata": {},
   "outputs": [
    {
     "name": "stdout",
     "output_type": "stream",
     "text": [
      "0.088\n"
     ]
    }
   ],
   "source": [
    "# 7\n",
    "sales_tax = .088\n",
    "print(sales_tax)"
   ]
  },
  {
   "cell_type": "code",
   "execution_count": 9,
   "id": "579de24f-ee47-465a-b297-e8c2970324d5",
   "metadata": {},
   "outputs": [
    {
     "name": "stdout",
     "output_type": "stream",
     "text": [
      "0\n"
     ]
    }
   ],
   "source": [
    "# 8\n",
    "customer_one_total = 0\n",
    "print(customer_one_total)"
   ]
  },
  {
   "cell_type": "code",
   "execution_count": 10,
   "id": "893f310d-b002-4c6b-bf9d-24e452e289b1",
   "metadata": {},
   "outputs": [
    {
     "name": "stdout",
     "output_type": "stream",
     "text": [
      "\n"
     ]
    }
   ],
   "source": [
    "# 9\n",
    "customer_one_itemization = \"\"\n",
    "print(customer_one_itemization)"
   ]
  },
  {
   "cell_type": "code",
   "execution_count": 11,
   "id": "fac15aaa-12cf-43c0-aff2-49551a6049f3",
   "metadata": {},
   "outputs": [
    {
     "name": "stdout",
     "output_type": "stream",
     "text": [
      "254.0\n"
     ]
    }
   ],
   "source": [
    "# 10\n",
    "customer_one_total = customer_one_total + lovely_loveseat_price\n",
    "print(customer_one_total)"
   ]
  },
  {
   "cell_type": "code",
   "execution_count": 12,
   "id": "845825a7-bbd3-4970-a9f7-badc5053491e",
   "metadata": {},
   "outputs": [
    {
     "name": "stdout",
     "output_type": "stream",
     "text": [
      "Lovely Loveseat. Tufted polyester blend on wood. 32 inches high x 40 inches wide x 30 inches deep. Red or white.\n"
     ]
    }
   ],
   "source": [
    "# 11\n",
    "customer_one_itemization = lovely_loveseat_description\n",
    "print(customer_one_itemization)"
   ]
  },
  {
   "cell_type": "code",
   "execution_count": 13,
   "id": "63db094e-f05a-4099-a9ce-a14aeea306c7",
   "metadata": {},
   "outputs": [
    {
     "name": "stdout",
     "output_type": "stream",
     "text": [
      "306.15\n"
     ]
    }
   ],
   "source": [
    "# 12\n",
    "customer_one_total = customer_one_total + luxurious_lamp_price\n",
    "print(customer_one_total)"
   ]
  },
  {
   "cell_type": "code",
   "execution_count": 14,
   "id": "d821635b-ec05-442a-a681-c433d01a5abc",
   "metadata": {},
   "outputs": [
    {
     "name": "stdout",
     "output_type": "stream",
     "text": [
      "Lovely Loveseat. Tufted polyester blend on wood. 32 inches high x 40 inches wide x 30 inches deep. Red or white.Luxurious Lamp. Glass and iron. 36 inches tall. Brown with cream shade.\n"
     ]
    }
   ],
   "source": [
    "# 13\n",
    "customer_one_itemization = customer_one_itemization + luxurious_lamp_description\n",
    "print(customer_one_itemization)"
   ]
  },
  {
   "cell_type": "code",
   "execution_count": 15,
   "id": "5f6f51a8-1323-42ae-b6cc-03d9e8a5724f",
   "metadata": {},
   "outputs": [
    {
     "name": "stdout",
     "output_type": "stream",
     "text": [
      "26.941199999999995\n"
     ]
    }
   ],
   "source": [
    "# 14\n",
    "customer_one_tax = customer_one_total * sales_tax\n",
    "print(customer_one_tax)"
   ]
  },
  {
   "cell_type": "code",
   "execution_count": 16,
   "id": "3febed60-a27f-4931-82ec-2dcfe12c53a5",
   "metadata": {},
   "outputs": [
    {
     "name": "stdout",
     "output_type": "stream",
     "text": [
      "333.09119999999996\n"
     ]
    }
   ],
   "source": [
    "# 15\n",
    "customer_one_total = customer_one_total + customer_one_tax\n",
    "print(customer_one_total)"
   ]
  },
  {
   "cell_type": "code",
   "execution_count": 17,
   "id": "504ca908-8f9f-4ecb-b0e7-78b5bddbf7ba",
   "metadata": {},
   "outputs": [
    {
     "name": "stdout",
     "output_type": "stream",
     "text": [
      "Custoemr One Items:\n",
      "Lovely Loveseat. Tufted polyester blend on wood. 32 inches high x 40 inches wide x 30 inches deep. Red or white.Luxurious Lamp. Glass and iron. 36 inches tall. Brown with cream shade.\n",
      "Customer One Total:\n",
      "333.09119999999996\n"
     ]
    }
   ],
   "source": [
    "# 16\n",
    "print(\"Custoemr One Items:\")\n",
    "\n",
    "# 17\n",
    "print(customer_one_itemization)\n",
    "\n",
    "# 18\n",
    "print(\"Customer One Total:\")\n",
    "\n",
    "# 19\n",
    "print(customer_one_total)"
   ]
  }
 ],
 "metadata": {
  "kernelspec": {
   "display_name": "Python 3 (ipykernel)",
   "language": "python",
   "name": "python3"
  },
  "language_info": {
   "codemirror_mode": {
    "name": "ipython",
    "version": 3
   },
   "file_extension": ".py",
   "mimetype": "text/x-python",
   "name": "python",
   "nbconvert_exporter": "python",
   "pygments_lexer": "ipython3",
   "version": "3.9.12"
  }
 },
 "nbformat": 4,
 "nbformat_minor": 5
}
