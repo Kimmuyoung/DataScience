{
 "cells": [
  {
   "cell_type": "code",
   "execution_count": null,
   "id": "57de48e6-f8b1-46b8-a709-c2d001a4ec11",
   "metadata": {},
   "outputs": [],
   "source": [
    "# 과제4: 나의 조선시대 이름 찾기"
   ]
  },
  {
   "cell_type": "code",
   "execution_count": 19,
   "id": "ec1fce4b-8c3d-4858-87bb-1ae97a6dec76",
   "metadata": {},
   "outputs": [
    {
     "name": "stdout",
     "output_type": "stream",
     "text": [
      "['쌍', '쇠', '복', '돌', '팽', '육', '쌍', '개', '칠', '갑', '삼', '방']\n"
     ]
    }
   ],
   "source": [
    "month_name = ['쌍', '쇠', '복', '돌', '팽', '육', '쌍', '개', '칠', '갑', '삼', '방']\n",
    "print(month_name)"
   ]
  },
  {
   "cell_type": "code",
   "execution_count": 20,
   "id": "19bcd96f-1ad4-4209-a856-c2a5af2cf5f1",
   "metadata": {},
   "outputs": [
    {
     "name": "stdout",
     "output_type": "stream",
     "text": [
      "['봉', '구', '욕', '포', '똥', '삼', '식', '석', '놈', '님', '년', '돌', '단', '득', '방', '질', '장', '걸', '래', '룡', '동', '순', '자', '박', '창', '언', '것', '포', '만', '단', '국']\n"
     ]
    }
   ],
   "source": [
    "day_name = ['봉', '구', '욕', '포', '똥', '삼', '식', '석', '놈', '님', '년', '돌', '단', '득', '방', '질', '장', '걸', '래', '룡', '동', '순', '자', '박', '창', '언', '것', '포', '만', '단', '국']\n",
    "print(day_name)"
   ]
  },
  {
   "cell_type": "code",
   "execution_count": 21,
   "id": "a0d7b520-b3f1-41e4-bcc6-e6ffa8f1994f",
   "metadata": {},
   "outputs": [],
   "source": [
    "def get_my_chosun_name(family_name, month, day):\n",
    "    print(\"당신의 조선시대 이름은 %s%s%s 입니다\" %(family_name, month_name[month - 1], day_name[day - 1]))"
   ]
  },
  {
   "cell_type": "code",
   "execution_count": 24,
   "id": "0cde641d-5f6a-4b51-909a-c5c02db798c2",
   "metadata": {},
   "outputs": [
    {
     "name": "stdout",
     "output_type": "stream",
     "text": [
      "당신의 조선시대 이름은 김쇠욕 입니다\n"
     ]
    }
   ],
   "source": [
    "get_my_chosun_name('김', 2, 3)"
   ]
  }
 ],
 "metadata": {
  "kernelspec": {
   "display_name": "Python 3 (ipykernel)",
   "language": "python",
   "name": "python3"
  },
  "language_info": {
   "codemirror_mode": {
    "name": "ipython",
    "version": 3
   },
   "file_extension": ".py",
   "mimetype": "text/x-python",
   "name": "python",
   "nbconvert_exporter": "python",
   "pygments_lexer": "ipython3",
   "version": "3.9.12"
  }
 },
 "nbformat": 4,
 "nbformat_minor": 5
}
