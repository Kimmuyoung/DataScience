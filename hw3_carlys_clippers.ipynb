{
 "cells": [
  {
   "cell_type": "code",
   "execution_count": null,
   "id": "34ed4339-ccf2-46aa-9648-7659432cf12d",
   "metadata": {},
   "outputs": [],
   "source": [
    "# 과제3: Carly's Clippers"
   ]
  },
  {
   "cell_type": "code",
   "execution_count": 40,
   "id": "c239afcc-f327-4ff0-b060-65c1f38108e1",
   "metadata": {},
   "outputs": [],
   "source": [
    "import numpy as np"
   ]
  },
  {
   "cell_type": "code",
   "execution_count": 84,
   "id": "e14ce220-35a3-459c-8929-08d2f622696f",
   "metadata": {},
   "outputs": [
    {
     "name": "stdout",
     "output_type": "stream",
     "text": [
      "['bouffant' 'pixie' 'dreadlocks' 'crew' 'bowl' 'bob' 'mohawk' 'flattop']\n"
     ]
    }
   ],
   "source": [
    "hairstyles = np.array([\"bouffant\", \"pixie\", \"dreadlocks\", \"crew\", \"bowl\", \"bob\", \"mohawk\", \"flattop\"])\n",
    "print(hairstyles)"
   ]
  },
  {
   "cell_type": "code",
   "execution_count": 85,
   "id": "fc5711c0-23fd-4f9d-9c65-2b1287e290ff",
   "metadata": {},
   "outputs": [
    {
     "name": "stdout",
     "output_type": "stream",
     "text": [
      "[30 25 40 20 20 35 50 35]\n"
     ]
    }
   ],
   "source": [
    "prices = np.array([30, 25, 40, 20, 20, 35, 50, 35])\n",
    "print(prices)"
   ]
  },
  {
   "cell_type": "code",
   "execution_count": 86,
   "id": "56bc9772-64cb-4ad9-bcd4-2f602b5c4091",
   "metadata": {},
   "outputs": [
    {
     "name": "stdout",
     "output_type": "stream",
     "text": [
      "[2 3 5 8 4 4 6 2]\n"
     ]
    }
   ],
   "source": [
    "last_week = np.array([2, 3, 5, 8, 4, 4, 6, 2])\n",
    "print(last_week)"
   ]
  },
  {
   "cell_type": "code",
   "execution_count": 87,
   "id": "d1687564-8426-42de-8116-7d832f5fd0d3",
   "metadata": {},
   "outputs": [
    {
     "name": "stdout",
     "output_type": "stream",
     "text": [
      "0\n"
     ]
    }
   ],
   "source": [
    "total_price = 0\n",
    "print(total_price)"
   ]
  },
  {
   "cell_type": "code",
   "execution_count": 88,
   "id": "e5c4149e-b433-4698-b28e-8d404f72c079",
   "metadata": {},
   "outputs": [
    {
     "name": "stdout",
     "output_type": "stream",
     "text": [
      "255\n"
     ]
    }
   ],
   "source": [
    "total_price = np.add.reduce(prices)\n",
    "print(total_price)"
   ]
  },
  {
   "cell_type": "code",
   "execution_count": 89,
   "id": "50c6013a-41b9-44ab-8d00-f605a987ca9a",
   "metadata": {},
   "outputs": [],
   "source": [
    "average_price = total_price / len(prices)"
   ]
  },
  {
   "cell_type": "code",
   "execution_count": 90,
   "id": "370cd2d1-a2b7-429a-8fbf-c42e05a780bf",
   "metadata": {},
   "outputs": [
    {
     "name": "stdout",
     "output_type": "stream",
     "text": [
      "Average price is 31.875\n"
     ]
    }
   ],
   "source": [
    "print(\"Average price is %.3f\" %(average_price))"
   ]
  },
  {
   "cell_type": "code",
   "execution_count": 91,
   "id": "8580618d-cc1b-4f61-b8e3-93dc341a2687",
   "metadata": {},
   "outputs": [],
   "source": [
    "new_prices = prices - 5"
   ]
  },
  {
   "cell_type": "code",
   "execution_count": 92,
   "id": "1f5a8203-b7ff-4aad-bb46-d15a2b1ca7da",
   "metadata": {},
   "outputs": [
    {
     "name": "stdout",
     "output_type": "stream",
     "text": [
      "[25 20 35 15 15 30 45 30]\n"
     ]
    }
   ],
   "source": [
    "print(new_prices)"
   ]
  },
  {
   "cell_type": "code",
   "execution_count": 93,
   "id": "f88cd1ca-89ae-4890-adaf-b7bb699ff7a5",
   "metadata": {},
   "outputs": [
    {
     "name": "stdout",
     "output_type": "stream",
     "text": [
      "0\n"
     ]
    }
   ],
   "source": [
    "total_revenue = 0\n",
    "print(total_revenue)"
   ]
  },
  {
   "cell_type": "code",
   "execution_count": 94,
   "id": "ddc3445b-6187-44a2-866d-ea89058c44b3",
   "metadata": {},
   "outputs": [],
   "source": [
    "for i in range(len(hairstyles)):\n",
    "    total_revenue = total_revenue + (prices[i] * last_week[i])"
   ]
  },
  {
   "cell_type": "code",
   "execution_count": 95,
   "id": "14403a81-def0-49c9-ba0a-fd2d9749ea60",
   "metadata": {},
   "outputs": [
    {
     "name": "stdout",
     "output_type": "stream",
     "text": [
      "1085\n"
     ]
    }
   ],
   "source": [
    "print(total_revenue)"
   ]
  },
  {
   "cell_type": "code",
   "execution_count": 96,
   "id": "497620a7-8280-468c-a7bc-0221c379eb5b",
   "metadata": {},
   "outputs": [
    {
     "name": "stdout",
     "output_type": "stream",
     "text": [
      "Average daily revenue is 155.0\n"
     ]
    }
   ],
   "source": [
    "average_daily_revenue = total_revenue / 7\n",
    "print(\"Average daily revenue is %.1f\" %(average_daily_revenue))"
   ]
  },
  {
   "cell_type": "code",
   "execution_count": 97,
   "id": "06caae9f-1fd9-41de-b02a-b5b9b29a35c0",
   "metadata": {},
   "outputs": [],
   "source": [
    "cut_under_30 = [hairstyles[i] for i in range(len(new_prices) - 1) if new_prices[i] < 30]"
   ]
  },
  {
   "cell_type": "code",
   "execution_count": 98,
   "id": "0bed1a89-e80f-4163-b5a7-7bbe309c72ad",
   "metadata": {},
   "outputs": [
    {
     "name": "stdout",
     "output_type": "stream",
     "text": [
      "['bouffant', 'pixie', 'crew', 'bowl']\n"
     ]
    }
   ],
   "source": [
    "print(cut_under_30)"
   ]
  }
 ],
 "metadata": {
  "kernelspec": {
   "display_name": "Python 3 (ipykernel)",
   "language": "python",
   "name": "python3"
  },
  "language_info": {
   "codemirror_mode": {
    "name": "ipython",
    "version": 3
   },
   "file_extension": ".py",
   "mimetype": "text/x-python",
   "name": "python",
   "nbconvert_exporter": "python",
   "pygments_lexer": "ipython3",
   "version": "3.9.12"
  }
 },
 "nbformat": 4,
 "nbformat_minor": 5
}
