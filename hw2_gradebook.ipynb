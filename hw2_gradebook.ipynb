{
 "cells": [
  {
   "cell_type": "code",
   "execution_count": 1,
   "id": "d9e42264-088e-4351-99b2-8c462f810396",
   "metadata": {},
   "outputs": [],
   "source": [
    "# 과제2: Gradebook"
   ]
  },
  {
   "cell_type": "code",
   "execution_count": 2,
   "id": "efe4ec48-5db8-4d31-a165-8bee03376c6a",
   "metadata": {},
   "outputs": [
    {
     "name": "stdout",
     "output_type": "stream",
     "text": [
      "['physics', 'calculus', 'poetry', 'history']\n"
     ]
    }
   ],
   "source": [
    "# 1\n",
    "subjects = [\"physics\", \"calculus\", \"poetry\", \"history\"]\n",
    "print(subjects)"
   ]
  },
  {
   "cell_type": "code",
   "execution_count": 3,
   "id": "557561c2-5c5f-467e-a657-25fda83e27b5",
   "metadata": {},
   "outputs": [
    {
     "name": "stdout",
     "output_type": "stream",
     "text": [
      "[98, 97, 85, 88]\n"
     ]
    }
   ],
   "source": [
    "# 2\n",
    "grades = [98, 97, 85, 88]\n",
    "print(grades)"
   ]
  },
  {
   "cell_type": "code",
   "execution_count": 4,
   "id": "6bf94124-0b7b-4ce2-9361-cfbf20baf7fe",
   "metadata": {},
   "outputs": [
    {
     "name": "stdout",
     "output_type": "stream",
     "text": [
      "[['physics', 98], ['calculus', 97], ['poetry', 85], ['history', 88]]\n"
     ]
    }
   ],
   "source": [
    "# 3, 4\n",
    "gradebook = [[\"physics\", 98], [\"calculus\", 97], [\"poetry\", 85], [\"history\", 88]]\n",
    "print(gradebook)"
   ]
  },
  {
   "cell_type": "code",
   "execution_count": 5,
   "id": "80a2c7a1-f54d-4b1e-8d2a-20b4b8f3ec51",
   "metadata": {},
   "outputs": [
    {
     "name": "stdout",
     "output_type": "stream",
     "text": [
      "[['physics', 98], ['calculus', 97], ['poetry', 85], ['history', 88], ['computer science', 100]]\n"
     ]
    }
   ],
   "source": [
    "# 5\n",
    "gradebook.append([\"computer science\", 100])\n",
    "print(gradebook)"
   ]
  },
  {
   "cell_type": "code",
   "execution_count": 6,
   "id": "04d2e44e-347d-4e6b-85db-3159040788c4",
   "metadata": {},
   "outputs": [
    {
     "name": "stdout",
     "output_type": "stream",
     "text": [
      "[['physics', 98], ['calculus', 97], ['poetry', 85], ['history', 88], ['computer science', 100], ['Visual arts', 93]]\n"
     ]
    }
   ],
   "source": [
    "# 6 \n",
    "gradebook.append([\"Visual arts\", 93])\n",
    "print(gradebook)"
   ]
  },
  {
   "cell_type": "code",
   "execution_count": 7,
   "id": "7cf031a2-8782-4e7e-a6ad-e60101d61950",
   "metadata": {},
   "outputs": [
    {
     "name": "stdout",
     "output_type": "stream",
     "text": [
      "['Visual arts', 93]\n",
      "93\n",
      "\n",
      "\n",
      "['Visual arts', 98]\n",
      "98\n",
      "\n",
      "\n",
      "[['physics', 98], ['calculus', 97], ['poetry', 85], ['history', 88], ['computer science', 100], ['Visual arts', 98]]\n"
     ]
    }
   ],
   "source": [
    "# 7\n",
    "print(gradebook[5])\n",
    "print(gradebook[5][1])\n",
    "gradebook[5][1] = 98\n",
    "print('\\n')\n",
    "\n",
    "print(gradebook[5])\n",
    "print(gradebook[5][1])\n",
    "print('\\n')\n",
    "\n",
    "print(gradebook)"
   ]
  },
  {
   "cell_type": "code",
   "execution_count": 8,
   "id": "b99789b9-53a2-4aed-952c-57850af794bf",
   "metadata": {},
   "outputs": [
    {
     "name": "stdout",
     "output_type": "stream",
     "text": [
      "[['physics', 98], ['calculus', 97], ['poetry'], ['history', 88], ['computer science', 100], ['Visual arts', 98]]\n"
     ]
    }
   ],
   "source": [
    "# 8\n",
    "gradebook[2].remove(85)\n",
    "print(gradebook)"
   ]
  },
  {
   "cell_type": "code",
   "execution_count": 9,
   "id": "2bea77ab-7a13-4ff5-832e-b8c15f4bce1f",
   "metadata": {},
   "outputs": [
    {
     "name": "stdout",
     "output_type": "stream",
     "text": [
      "[['physics', 98], ['calculus', 97], ['poetry', 'Pass'], ['history', 88], ['computer science', 100], ['Visual arts', 98]]\n"
     ]
    }
   ],
   "source": [
    "# 9\n",
    "gradebook[2].append(\"Pass\")\n",
    "print(gradebook)"
   ]
  },
  {
   "cell_type": "code",
   "execution_count": 10,
   "id": "bc401372-ee22-4800-8f03-817fa66081d5",
   "metadata": {},
   "outputs": [
    {
     "name": "stdout",
     "output_type": "stream",
     "text": [
      "[['politics', 80], ['latin', 96], ['dance', 97], ['architecture', 65]]\n",
      "\n",
      "\n",
      "[['politics', 80], ['latin', 96], ['dance', 97], ['architecture', 65], ['physics', 98], ['calculus', 97], ['poetry', 'Pass'], ['history', 88], ['computer science', 100], ['Visual arts', 98]]\n"
     ]
    }
   ],
   "source": [
    "# 10\n",
    "last_semester_gradebook = [[\"politics\", 80], [\"latin\", 96], [\"dance\", 97], [\"architecture\", 65]]\n",
    "print(last_semester_gradebook)\n",
    "print('\\n')\n",
    "\n",
    "full_gradebook = last_semester_gradebook + gradebook\n",
    "print(full_gradebook)"
   ]
  }
 ],
 "metadata": {
  "kernelspec": {
   "display_name": "Python 3 (ipykernel)",
   "language": "python",
   "name": "python3"
  },
  "language_info": {
   "codemirror_mode": {
    "name": "ipython",
    "version": 3
   },
   "file_extension": ".py",
   "mimetype": "text/x-python",
   "name": "python",
   "nbconvert_exporter": "python",
   "pygments_lexer": "ipython3",
   "version": "3.9.12"
  }
 },
 "nbformat": 4,
 "nbformat_minor": 5
}
